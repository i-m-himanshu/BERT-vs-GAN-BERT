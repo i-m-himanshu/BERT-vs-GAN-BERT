{
  "cells": [
    {
      "cell_type": "markdown",
      "metadata": {
        "id": "view-in-github",
        "colab_type": "text"
      },
      "source": [
        "<a href=\"https://colab.research.google.com/github/i-m-himanshu/BERT-vs-GAN-BERT/blob/main/GAN-BERT/GAN_implementation4.ipynb\" target=\"_parent\"><img src=\"https://colab.research.google.com/assets/colab-badge.svg\" alt=\"Open In Colab\"/></a>"
      ]
    },
    {
      "cell_type": "markdown",
      "metadata": {
        "id": "SCiEdpQu8Zc7"
      },
      "source": [
        "#Experimental Settings"
      ]
    },
    {
      "cell_type": "code",
      "execution_count": null,
      "metadata": {
        "colab": {
          "base_uri": "https://localhost:8080/"
        },
        "id": "btd5HSgD1OVs",
        "outputId": "509e58f7-38d3-49d4-fc9c-12d7c560cb7d"
      },
      "outputs": [
        {
          "output_type": "stream",
          "name": "stdout",
          "text": [
            "{'labeled_data_size': 350, 'unlabeld_data_size': 350, 'num_train_epochs': 10}\n"
          ]
        }
      ],
      "source": [
        "import time\n",
        "\n",
        "# training dataset\n",
        "labeled_data_size = 350 #this was initially 100\n",
        "unlabeled_data_size = 350 #this was initially 100\n",
        "\n",
        "# training hyperparameter\n",
        "num_train_epochs = 10\n",
        "\n",
        "# dict_settings\n",
        "dict_settings = {\n",
        "    'labeled_data_size':labeled_data_size,\n",
        "    'unlabeld_data_size':unlabeled_data_size,\n",
        "    'num_train_epochs':num_train_epochs\n",
        "}\n",
        "\n",
        "print(dict_settings)\n",
        "\n",
        "entire_notebook_t0 = time.time()#??"
      ]
    },
    {
      "cell_type": "markdown",
      "metadata": {
        "id": "s7XCKprt9AZG"
      },
      "source": [
        "#Using GPU"
      ]
    },
    {
      "cell_type": "code",
      "execution_count": null,
      "metadata": {
        "colab": {
          "base_uri": "https://localhost:8080/"
        },
        "id": "VR8YQSxG1fDU",
        "outputId": "537c3765-1085-4eee-da07-a5d2ddbc0b2d"
      },
      "outputs": [
        {
          "output_type": "stream",
          "name": "stdout",
          "text": [
            "2.8.0\n",
            "/device:GPU:0\n",
            "Num GPUs Available:  1\n"
          ]
        }
      ],
      "source": [
        "%tensorflow_version 2.x\n",
        "\n",
        "import tensorflow as tf\n",
        "print(tf.__version__)\n",
        "print(tf.test.gpu_device_name())\n",
        "print(\"Num GPUs Available: \", len(tf.config.experimental.list_physical_devices('GPU')))"
      ]
    },
    {
      "cell_type": "code",
      "execution_count": null,
      "metadata": {
        "colab": {
          "base_uri": "https://localhost:8080/"
        },
        "id": "RCF1-Dzy2RJk",
        "outputId": "263718c0-c6fe-4b2b-a3cf-10d878004b57"
      },
      "outputs": [
        {
          "output_type": "stream",
          "name": "stdout",
          "text": [
            "Running GPU: Tesla T4\n"
          ]
        }
      ],
      "source": [
        "import torch\n",
        "\n",
        "#The assert keyword is used when debugging code. The assert keyword lets you test if a condition in your code returns True, if not, the program will raise an AssertionError.\n",
        "assert torch.cuda.is_available()\n",
        "\n",
        "# Tell torch to use GPU\n",
        "device = torch.device(\"cuda\")\n",
        "print('Running GPU: {}'.format(torch.cuda.get_device_name()))"
      ]
    },
    {
      "cell_type": "code",
      "execution_count": null,
      "metadata": {
        "id": "d2iuD-VeW4Rx"
      },
      "outputs": [],
      "source": [
        "# import essential modules\n",
        "import torch\n",
        "import torch.nn.functional as F\n",
        "import torch.nn as nn\n",
        "from torch.utils.data import TensorDataset, DataLoader, RandomSampler, SequentialSampler\n",
        "\n",
        "import random\n",
        "import numpy as np\n",
        "import pandas as pd\n",
        "\n",
        "import time\n",
        "import math\n",
        "import datetime"
      ]
    },
    {
      "cell_type": "code",
      "execution_count": null,
      "metadata": {
        "colab": {
          "base_uri": "https://localhost:8080/"
        },
        "id": "9EAxL2U5XCCT",
        "outputId": "28724ffa-3a7b-4458-b2b7-b736b86dfef9"
      },
      "outputs": [
        {
          "output_type": "execute_result",
          "data": {
            "text/plain": [
              "<torch._C.Generator at 0x7efd400e3ed0>"
            ]
          },
          "metadata": {},
          "execution_count": 8
        }
      ],
      "source": [
        "# Set random seed\n",
        "#The seed value is a base value used by a pseudo-random generator to produce random numbers.\n",
        "seed = 1\n",
        "\n",
        "#The random number or data generated by Python's random module is not truly random; it is pseudo-random(it is PRNG), i.e., deterministic. The random module uses the seed value as a base to generate a random number.\n",
        "#By setting the custom seed value, we can reproduce the data given by a pseudo-random number generator. Choose the same elements from the list randomly every time using random.seed()\n",
        "random.seed(seed)\n",
        "np.random.seed(seed)\n",
        "torch.manual_seed(seed)"
      ]
    },
    {
      "cell_type": "markdown",
      "metadata": {
        "id": "3-iHpNJx9Qxl"
      },
      "source": [
        "#Prepare Dataset"
      ]
    },
    {
      "cell_type": "markdown",
      "metadata": {
        "id": "8vqik8Oe1OK-"
      },
      "source": [
        "Matplotlib vs Seaborn\n",
        "1.   Matplotlib: It is a Python library used for plotting graphs with the help of other libraries like Numpy and Pandas. It is a powerful tool for visualizing data in Python. It is used for creating statical interferences and plotting 2D graphs of arrays.\n",
        "2.   Seaborn: It is also a Python library used for plotting graphs with the help of Matplotlib, Pandas, and Numpy. It is built on the roof of Matplotlib and is considered as a superset of the Matplotlib library. It helps in visualizing univariate and bivariate data. It uses beautiful themes for decorating Matplotlib graphics. It acts as an important tool in picturing Linear Regression Models. It eliminates the overlapping of graphs and also aids in their beautification."
      ]
    },
    {
      "cell_type": "code",
      "execution_count": null,
      "metadata": {
        "colab": {
          "base_uri": "https://localhost:8080/",
          "height": 368
        },
        "id": "Y-S5_j7QXIB7",
        "outputId": "276810b7-bbba-4dbd-97a1-fffab337faa8"
      },
      "outputs": [
        {
          "output_type": "stream",
          "name": "stdout",
          "text": [
            "Number of different classes: 6\n"
          ]
        },
        {
          "output_type": "stream",
          "name": "stderr",
          "text": [
            "/usr/local/lib/python3.7/dist-packages/seaborn/_decorators.py:43: FutureWarning: Pass the following variable as a keyword arg: x. From version 0.12, the only valid positional argument will be `data`, and passing other arguments without an explicit keyword will result in an error or misinterpretation.\n",
            "  FutureWarning\n"
          ]
        },
        {
          "output_type": "execute_result",
          "data": {
            "text/plain": [
              "<matplotlib.axes._subplots.AxesSubplot at 0x7efccbe7fe90>"
            ]
          },
          "metadata": {},
          "execution_count": 9
        },
        {
          "output_type": "display_data",
          "data": {
            "text/plain": [
              "<Figure size 432x288 with 1 Axes>"
            ],
            "image/png": "[encoded data removed]"
          },
          "metadata": {
            "needs_background": "light"
          }
        }
      ],
      "source": [
        "# Load training dataset\n",
        "df = pd.read_csv('Dataset4_train(ganbert)2.csv')\n",
        "\n",
        "# Mapping the class to label code\n",
        "# Label Encdoing: Label Encoding refers to converting the labels into a numeric form so as to convert them into the machine-readable form. Machine learning algorithms can then decide in a better way how those labels must be operated. It is an important pre-processing step for the structured dataset in supervised learning.\n",
        "class_map={'UNK':0, 'neutral':1, 'sadness':2, 'fear':3, 'anger':4, 'joy':5}\n",
        "\n",
        "# Show number of different classes\n",
        "n_classes = len(class_map)\n",
        "print('Number of different classes: {}'.format(n_classes))\n",
        "\n",
        "# Mapping the class names\n",
        "#'review' and 'sentiment' are two columns names present in our dataset\n",
        "df[\"label\"] = df[\"label\"].map(class_map)\n",
        "\n",
        "# Show class countplot\n",
        "import seaborn as sns\n",
        "sns.countplot(df[\"label\"])"
      ]
    },
    {
      "cell_type": "code",
      "execution_count": null,
      "metadata": {
        "colab": {
          "base_uri": "https://localhost:8080/"
        },
        "id": "Vjruli71sJIv",
        "outputId": "5ece7fae-d092-4a52-9721-88ae6a41dd26"
      },
      "outputs": [
        {
          "output_type": "stream",
          "name": "stdout",
          "text": [
            "                                                   text  label\n",
            "1818   maybe if I sold my car now , I wouldn't be so...      1\n",
            "2257                                              oh .       1\n",
            "3812   I had the same feeling when I first came to w...      1\n",
            "2850             Thirty minutes in gym at lunch time .       1\n",
            "2795                                      How was it ?       1\n",
            "...                                                 ...    ...\n",
            "3245                                        Go ahead .       1\n",
            "3235  It is high time you have a talk with him . Tha...      1\n",
            "2602   It was nice to see you , too.And please give ...      1\n",
            "1245                                            What ?       1\n",
            "3797                                       All right .       1\n",
            "\n",
            "[350 rows x 2 columns]\n",
            "                                                   text  label\n",
            "1818   maybe if I sold my car now , I wouldn't be so...      1\n",
            "2257                                              oh .       1\n",
            "3812   I had the same feeling when I first came to w...      1\n",
            "2850             Thirty minutes in gym at lunch time .       1\n",
            "2795                                      How was it ?       1\n",
            "...                                                 ...    ...\n",
            "2824                     When I had my first boyfriend.      5\n",
            "3681  Our only elder sister got married and started ...      5\n",
            "3253                   When my boyfriend and I made up.      5\n",
            "1659               Did you see Ally Mabel last night ?       5\n",
            "2275  I didn't like my former fob and felt joy when ...      5\n",
            "\n",
            "[1750 rows x 2 columns]\n"
          ]
        }
      ],
      "source": [
        "# Initalize the first df\n",
        "#We have already defined the labeled_data_size=100 at the start\n",
        "df_sampled = df[df['label']==1].sample(labeled_data_size) #We are initializing df_sampled with the 100 data enteries corresponding to sentiment 1 i.e. extremely positive\n",
        "\n",
        "print(df_sampled) #It will print 100 data enteries corresponding to sentiment 1\n",
        "\n",
        "# Import samples from the other classes\n",
        "for i in range(2,6):\n",
        "    df_temp = df[df['label'] == i].sample(labeled_data_size)\n",
        "    df_sampled = pd.concat((df_sampled, df_temp))\n",
        "\n",
        "print(df_sampled) #It will print 100 data enteries corresponding to each sentiment from 1 to 5"
      ]
    },
    {
      "cell_type": "code",
      "execution_count": null,
      "metadata": {
        "colab": {
          "base_uri": "https://localhost:8080/"
        },
        "id": "32GNc-FW5c73",
        "outputId": "f3157904-bf21-45c7-96c4-132ee51438af"
      },
      "outputs": [
        {
          "output_type": "stream",
          "name": "stdout",
          "text": [
            "Number of data entries: 1750\n"
          ]
        },
        {
          "output_type": "stream",
          "name": "stderr",
          "text": [
            "/usr/local/lib/python3.7/dist-packages/seaborn/_decorators.py:43: FutureWarning: Pass the following variable as a keyword arg: x. From version 0.12, the only valid positional argument will be `data`, and passing other arguments without an explicit keyword will result in an error or misinterpretation.\n",
            "  FutureWarning\n"
          ]
        },
        {
          "output_type": "execute_result",
          "data": {
            "text/plain": [
              "<matplotlib.axes._subplots.AxesSubplot at 0x7f0db47d6bd0>"
            ]
          },
          "metadata": {},
          "execution_count": 70
        },
        {
          "output_type": "display_data",
          "data": {
            "text/plain": [
              "<Figure size 432x288 with 1 Axes>"
            ],
            "image/png": "[encoded data removed]"
          },
          "metadata": {
            "needs_background": "light"
          }
        }
      ],
      "source": [
        "# Show class countplo\n",
        "print('Number of data entries: {}'.format(len(df_sampled)))\n",
        "sns.countplot(df_sampled['label'])"
      ]
    },
    {
      "cell_type": "code",
      "execution_count": null,
      "metadata": {
        "colab": {
          "base_uri": "https://localhost:8080/"
        },
        "id": "CV4WAfhy5rhs",
        "outputId": "1499aff1-bd52-452a-d5ce-e41214bf09d0"
      },
      "outputs": [
        {
          "output_type": "stream",
          "name": "stdout",
          "text": [
            "                                                   text label\n",
            "296                                          See you .    UNK\n",
            "1372  Tutorial again !  A fearful feeling came to me...   UNK\n",
            "324   Our only elder sister got married and started ...   UNK\n",
            "2993  When, for example, I was in my eleventh school...   UNK\n",
            "3198  Tabitha Campbell-Black was livid because she w...   UNK\n",
            "...                                                 ...   ...\n",
            "2792                          When my grandmother died.   UNK\n",
            "1711                                             Yes .    UNK\n",
            "2003                                             Jim !    UNK\n",
            "3095   Well , yes . Several colleagues from differen...   UNK\n",
            "1168    Again , I do apologize for the inconvenience .    UNK\n",
            "\n",
            "[350 rows x 2 columns]\n"
          ]
        }
      ],
      "source": [
        "# Randomly choose 100 data entries which will be converted into unlabled data\n",
        "df_unlabeled = df.sample(unlabeled_data_size)\n",
        "\n",
        "# Convert class to UNK\n",
        "df_unlabeled['label'] = 'UNK'\n",
        "\n",
        "print(df_unlabeled)"
      ]
    },
    {
      "cell_type": "code",
      "execution_count": null,
      "metadata": {
        "colab": {
          "base_uri": "https://localhost:8080/"
        },
        "id": "NMlydonJ6UCK",
        "outputId": "a0c7ec69-429e-4a65-9d4f-b8e1af6c0004"
      },
      "outputs": [
        {
          "output_type": "stream",
          "name": "stdout",
          "text": [
            "(1400, 2)\n",
            "(350, 2)\n",
            "(350, 2)\n"
          ]
        }
      ],
      "source": [
        "# Split 20% of data from the df_sample as val_data\n",
        "from sklearn.model_selection import train_test_split\n",
        "\n",
        "df_labeled, df_val = train_test_split(df_sampled,\n",
        "                                    test_size=0.2,\n",
        "                                    random_state=1,\n",
        "                                    stratify=df_sampled['label'])\n",
        "\n",
        "for item in df_labeled, df_unlabeled, df_val:\n",
        "    print(item.shape)"
      ]
    },
    {
      "cell_type": "code",
      "execution_count": null,
      "metadata": {
        "id": "rTW10nHV7mfm"
      },
      "outputs": [],
      "source": [
        "! pip install transformers datasets"
      ]
    },
    {
      "cell_type": "markdown",
      "metadata": {
        "id": "gVlrz9wU9jc2"
      },
      "source": [
        "#Import BERT model"
      ]
    },
    {
      "cell_type": "code",
      "execution_count": null,
      "metadata": {
        "colab": {
          "base_uri": "https://localhost:8080/"
        },
        "id": "NfnD8nA66jQu",
        "outputId": "8cf475ff-f5cf-4cec-b4cb-cce33486e596"
      },
      "outputs": [
        {
          "output_type": "stream",
          "name": "stderr",
          "text": [
            "Some weights of the model checkpoint at bert-base-cased were not used when initializing BertModel: ['cls.predictions.transform.dense.bias', 'cls.seq_relationship.weight', 'cls.predictions.transform.LayerNorm.weight', 'cls.predictions.bias', 'cls.seq_relationship.bias', 'cls.predictions.transform.dense.weight', 'cls.predictions.decoder.weight', 'cls.predictions.transform.LayerNorm.bias']\n",
            "- This IS expected if you are initializing BertModel from the checkpoint of a model trained on another task or with another architecture (e.g. initializing a BertForSequenceClassification model from a BertForPreTraining model).\n",
            "- This IS NOT expected if you are initializing BertModel from the checkpoint of a model that you expect to be exactly identical (initializing a BertForSequenceClassification model from a BertForSequenceClassification model).\n"
          ]
        }
      ],
      "source": [
        "model_name = \"bert-base-cased\"\n",
        "\n",
        "from transformers import BertModel, BertTokenizer\n",
        "\n",
        "# Load BERT tokenizer\n",
        "transformer = BertModel.from_pretrained(model_name)\n",
        "tokenizer = BertTokenizer.from_pretrained('bert-base-cased')"
      ]
    },
    {
      "cell_type": "markdown",
      "metadata": {
        "id": "NxwrQAYv9uhz"
      },
      "source": [
        "#Prepare Dataloader"
      ]
    },
    {
      "cell_type": "code",
      "execution_count": null,
      "metadata": {
        "colab": {
          "base_uri": "https://localhost:8080/"
        },
        "id": "EVPjcQd1_9qe",
        "outputId": "0f2cf672-4b74-43c9-876b-a1b4f9d62948"
      },
      "outputs": [
        {
          "output_type": "stream",
          "name": "stderr",
          "text": [
            "/usr/local/lib/python3.7/dist-packages/seaborn/_decorators.py:43: FutureWarning: Pass the following variable as a keyword arg: x. From version 0.12, the only valid positional argument will be `data`, and passing other arguments without an explicit keyword will result in an error or misinterpretation.\n",
            "  FutureWarning\n",
            "/usr/local/lib/python3.7/dist-packages/seaborn/_decorators.py:43: FutureWarning: Pass the following variable as a keyword arg: x. From version 0.12, the only valid positional argument will be `data`, and passing other arguments without an explicit keyword will result in an error or misinterpretation.\n",
            "  FutureWarning\n"
          ]
        },
        {
          "output_type": "execute_result",
          "data": {
            "text/plain": [
              "Text(0.5, 1.0, 'df_val label mask')"
            ]
          },
          "metadata": {},
          "execution_count": 75
        },
        {
          "output_type": "display_data",
          "data": {
            "text/plain": [
              "<Figure size 432x288 with 2 Axes>"
            ],
            "image/png": "[encoded data removed]"
          },
          "metadata": {
            "needs_background": "light"
          }
        }
      ],
      "source": [
        "# Combine df_labeled and df_unlabeled into the train_dataloader\n",
        "df_train = pd.concat((df_labeled, df_unlabeled))\n",
        "\n",
        "# Convert UNK to class zero\n",
        "df_train['label'] = df_train['label'].apply(lambda x: 0 if x=='UNK' else x)\n",
        "\n",
        "# Create a new column for label_mask\n",
        "def generate_label_mask(label):\n",
        "    if label == 0:\n",
        "        return 0\n",
        "    else:\n",
        "        return 1\n",
        "\n",
        "df_train['label_mask'] = df_train['label'].apply(generate_label_mask)\n",
        "\n",
        "#The subplot() function takes three arguments that describes the layout of the figure.The layout is organized in rows and columns, which are represented by the first and second argument.The third argument represents the index of the current plot.\n",
        "\n",
        "# Show label_mask distribution\n",
        "import matplotlib.pyplot as plt\n",
        "plt.subplot(1,2,1) #the figure has 1 row, 2 columns, and this plot is the first plot.\n",
        "sns.countplot(df_train['label_mask'])\n",
        "plt.title('df_train label mask')\n",
        "\n",
        "# Generate label mask for df_val\n",
        "df_val['label_mask'] = df_val['label'].apply(generate_label_mask)\n",
        "\n",
        "# Show label_mask distribution\n",
        "plt.subplot(1,2,2) #the figure has 1 row, 2 columns, and this plot is the second plot.\n",
        "sns.countplot(df_val['label_mask'])\n",
        "plt.title('df_val label mask')\n",
        "#1 row means the row with the name 'count' and 2 column means the columns with names 'df_train label mask' and 'df_val label mask' in the plot below\n",
        "#if we want a figure with 2 rows an 1 column (meaning that the two plots will be displayed on top of each other instead of side-by-side), we can write the syntax like this:\n",
        "#plt.subplot(2, 1, 1) and plt.subplot(2,1,2) respectively"
      ]
    },
    {
      "cell_type": "code",
      "execution_count": null,
      "metadata": {
        "id": "GSOSGwCJAe0U"
      },
      "outputs": [],
      "source": [
        "# Hyperparameteres\n",
        "max_length = 128\n",
        "batch_size = 32\n",
        "\n",
        "# Tokenization and covnert dataframes to datasets\n",
        "#A DataFrame is a Dataset organized into named columns\n",
        "def encode_df(df):\n",
        "    input_ids = []\n",
        "    attention_mask = []\n",
        "    texts = df['text'].values\n",
        "    labels = df['label'].values\n",
        "    label_masks = df['label_mask'].values\n",
        "    \n",
        "    for text in texts:\n",
        "        encoded_dict = tokenizer.encode_plus(text,\n",
        "                                             add_special_tokens=True,\n",
        "                                             padding='max_length',\n",
        "                                             return_attention_mask=True,\n",
        "                                             max_length=max_length,\n",
        "                                             return_tensors='pt',\n",
        "                                             truncation=True)\n",
        "        \n",
        "        input_ids.append(encoded_dict['input_ids'])\n",
        "        attention_mask.append(encoded_dict['attention_mask'])\n",
        "    \n",
        "    return input_ids, attention_mask, labels, label_masks"
      ]
    },
    {
      "cell_type": "code",
      "execution_count": null,
      "metadata": {
        "id": "oam9697rAra_"
      },
      "outputs": [],
      "source": [
        "# Concat input_ds and attention_mask\n",
        "def concat_data(input_ids, attention_mask, labels, label_masks):\n",
        "    input_ids = torch.cat(input_ids, dim=0)\n",
        "    attention_mask = torch.cat(attention_mask, dim=0)\n",
        "    labels = torch.tensor(labels)\n",
        "    label_masks = torch.tensor(label_masks)\n",
        "    \n",
        "    return input_ids, attention_mask, labels, label_masks"
      ]
    },
    {
      "cell_type": "code",
      "execution_count": null,
      "metadata": {
        "id": "mLRv2PL7Awrq"
      },
      "outputs": [],
      "source": [
        "# Convert encoded data to dataset\n",
        "def make_dataloader(input_ids, attention_mask, labels, label_masks, random_sampler=True):\n",
        "    temp_dataset = TensorDataset(input_ids, attention_mask, labels, label_masks)\n",
        "    \n",
        "    if random_sampler:\n",
        "        dataloader = DataLoader(temp_dataset,\n",
        "                                batch_size=batch_size,\n",
        "                                sampler=RandomSampler(temp_dataset))\n",
        "\n",
        "    else:\n",
        "        dataloader = DataLoader(temp_dataset,\n",
        "                                batch_size=batch_size,\n",
        "                                sampler=SequentialSampler(temp_dataset))\n",
        "    \n",
        "    return dataloader"
      ]
    },
    {
      "cell_type": "code",
      "execution_count": null,
      "metadata": {
        "id": "3Er8OvLgA1eH"
      },
      "outputs": [],
      "source": [
        "# Convert df_labeled, df_unlabeled, df_val to dataloader\n",
        "\n",
        "#df_labeled\n",
        "input_ids, attention_mask, labels, label_masks = encode_df(df_train)\n",
        "input_ids, attention_mask, labels, label_masks = concat_data(input_ids, attention_mask, labels, label_masks)\n",
        "train_dataloader = make_dataloader(input_ids, attention_mask, labels, label_masks, random_sampler=True)\n",
        "\n",
        "#df_val\n",
        "input_ids, attention_mask, labels, label_masks = encode_df(df_val)\n",
        "input_ids, attention_mask, labels, label_masks = concat_data(input_ids, attention_mask, labels, label_masks)\n",
        "test_dataloader = make_dataloader(input_ids, attention_mask, labels, label_masks, random_sampler=False)"
      ]
    },
    {
      "cell_type": "markdown",
      "metadata": {
        "id": "tZPZuEJz96xe"
      },
      "source": [
        "#Set up the Models"
      ]
    },
    {
      "cell_type": "code",
      "execution_count": null,
      "metadata": {
        "id": "IVsnMt0ZJCGU"
      },
      "outputs": [],
      "source": [
        "# Hyperparameters\n",
        "noise_size = 100\n",
        "drate = 0.2\n",
        "\n",
        "# Replicate labeled data to balance poorly represented datasets, \n",
        "# e.g., less than 1% of labeled material\n",
        "#apply_balance = True"
      ]
    },
    {
      "cell_type": "code",
      "execution_count": null,
      "metadata": {
        "id": "mGOzlwQjJPbJ"
      },
      "outputs": [],
      "source": [
        "from torch.nn import Module, Linear, LeakyReLU, Dropout, Sequential, Softmax\n",
        "import torch.nn.functional as F\n",
        "\n",
        "class Generator(nn.Module):\n",
        "    def __init__(self, noise_size=100, output_size=512, hidden_sizes=[512], dropout_rate=0.1):\n",
        "        super(Generator, self).__init__()\n",
        "        layers = []\n",
        "        hidden_sizes = [noise_size] + hidden_sizes\n",
        "        for i in range(len(hidden_sizes)-1):\n",
        "            layers.extend([nn.Linear(hidden_sizes[i], hidden_sizes[i+1]), nn.LeakyReLU(0.2, inplace=True), nn.Dropout(dropout_rate)])\n",
        "\n",
        "        layers.append(nn.Linear(hidden_sizes[-1],output_size))\n",
        "        self.layers = nn.Sequential(*layers)\n",
        "\n",
        "    def forward(self, noise):\n",
        "        output_rep = self.layers(noise)\n",
        "        return output_rep\n",
        "\n",
        "class Discriminator(nn.Module):\n",
        "    def __init__(self, input_size=512, hidden_sizes=[512], num_labels=2, dropout_rate=0.1):\n",
        "        super(Discriminator, self).__init__()\n",
        "        self.input_dropout = nn.Dropout(p=dropout_rate)\n",
        "        layers = []\n",
        "        hidden_sizes = [input_size] + hidden_sizes\n",
        "        for i in range(len(hidden_sizes)-1):\n",
        "            layers.extend([nn.Linear(hidden_sizes[i], hidden_sizes[i+1]), nn.LeakyReLU(0.2, inplace=True), nn.Dropout(dropout_rate)])\n",
        "        \n",
        "        self.layers = nn.Sequential(*layers) #per il flatten\n",
        "        self.logit = nn.Linear(hidden_sizes[-1],num_labels+1) # +1 for the probability of this sample being fake/real.\n",
        "        self.softmax = nn.Softmax(dim=-1)\n",
        "    \n",
        "    def forward(self, input_rep):\n",
        "        input_rep = self.input_dropout(input_rep)\n",
        "        last_rep = self.layers(input_rep)\n",
        "        logits = self.logit(last_rep)\n",
        "        probs = self.softmax(logits)\n",
        "        return last_rep, logits, probs\n"
      ]
    },
    {
      "cell_type": "code",
      "execution_count": null,
      "metadata": {
        "id": "Eztl2hClJ6X_"
      },
      "outputs": [],
      "source": [
        "# Model configuraiton\n",
        "from transformers import BertConfig\n",
        "config = BertConfig.from_pretrained(model_name)\n",
        "\n",
        "# Get BERT's hidden size\n",
        "hidden_size = int(config.hidden_size)\n",
        "\n",
        "# Setup hidden_levels\n",
        "hidden_levels = [hidden_size]"
      ]
    },
    {
      "cell_type": "code",
      "execution_count": null,
      "metadata": {
        "id": "uHbYiMmjKDtr"
      },
      "outputs": [],
      "source": [
        "# Hyperparameters\n",
        "n_class = len(df_train['label'].unique())\n",
        "\n",
        "# Initialize the models\n",
        "generator = Generator(noise_size=noise_size, output_size=hidden_size, hidden_sizes=hidden_levels, dropout_rate=drate)\n",
        "discriminator = Discriminator(input_size=hidden_size, hidden_sizes=hidden_levels, num_labels=n_class, dropout_rate=drate)\n",
        "\n",
        "# Move models to GPU\n",
        "for model in transformer,generator,discriminator:\n",
        "    model.cuda()"
      ]
    },
    {
      "cell_type": "markdown",
      "metadata": {
        "id": "MpSK3geuKSiA"
      },
      "source": [
        "#Training"
      ]
    },
    {
      "cell_type": "code",
      "execution_count": null,
      "metadata": {
        "id": "ch6SM2D2KRYJ"
      },
      "outputs": [],
      "source": [
        "def format_time(elapsed):\n",
        "    '''\n",
        "    Takes a time in seconds and returns a string hh:mm:ss\n",
        "    '''\n",
        "    # Round to the nearest second.\n",
        "    elapsed_rounded = int(round((elapsed)))\n",
        "    # Format as hh:mm:ss\n",
        "    return str(datetime.timedelta(seconds=elapsed_rounded))"
      ]
    },
    {
      "cell_type": "code",
      "execution_count": null,
      "metadata": {
        "id": "vuxM6nHjKnVm"
      },
      "outputs": [],
      "source": [
        "training_stats = []\n",
        "\n",
        "# Measure the total training time for the whole run.\n",
        "total_t0 = time.time()\n",
        "\n",
        "# Models' variables\n",
        "t_vars = [i for i in transformer.parameters()]\n",
        "d_vars = t_vars + [i for i in discriminator.parameters()]\n",
        "g_vars = [i for i in generator.parameters()]"
      ]
    },
    {
      "cell_type": "code",
      "execution_count": null,
      "metadata": {
        "id": "tmydidK6KsPW"
      },
      "outputs": [],
      "source": [
        "# Set up optimizers\n",
        "from torch.optim import AdamW\n",
        "lr = 5e-5\n",
        "\n",
        "d_optimizer = AdamW(d_vars, lr=lr)\n",
        "g_optimizer = AdamW(g_vars, lr=lr)"
      ]
    },
    {
      "cell_type": "code",
      "execution_count": null,
      "metadata": {
        "id": "KBNHS-jRKwvh"
      },
      "outputs": [],
      "source": [
        "# Schedule\n",
        "apply_scheduler = False\n",
        "warmup_proportion = 0.1\n",
        "\n",
        "# Print\n",
        "print_each_n_step = 10\n",
        "\n",
        "if apply_scheduler:\n",
        "    num_train_examples = len(train_examples)\n",
        "    num_train_steps = int(num_train_examples / batch_size * num_train_epochs)\n",
        "    num_warmup_steps = int(num_train_steps * warmup_proportion)\n",
        "\n",
        "    scheduler_d = get_constant_schedule_with_warmup(dis_optimizer, \n",
        "                                           num_warmup_steps = num_warmup_steps)\n",
        "    scheduler_g = get_constant_schedule_with_warmup(gen_optimizer, \n",
        "                                           num_warmup_steps = num_warmup_steps)"
      ]
    },
    {
      "cell_type": "code",
      "execution_count": null,
      "metadata": {
        "colab": {
          "base_uri": "https://localhost:8080/"
        },
        "id": "Zjs695f3K17H",
        "outputId": "cc5636ea-4be6-4ebd-bcf3-118cf4246871"
      },
      "outputs": [
        {
          "output_type": "stream",
          "name": "stdout",
          "text": [
            "\n",
            "======== Epoch 1 / 10 ========\n",
            "Training...\n",
            "  Batch    10  of     55.    Elapsed: 0:00:10.\n",
            "  Batch    20  of     55.    Elapsed: 0:00:20.\n",
            "  Batch    30  of     55.    Elapsed: 0:00:30.\n",
            "  Batch    40  of     55.    Elapsed: 0:00:40.\n",
            "  Batch    50  of     55.    Elapsed: 0:00:51.\n",
            "\n",
            "  Average training loss generetor: 0.607\n",
            "  Average training loss discriminator: 2.460\n",
            "  Training epcoh took: 0:00:56\n",
            "\n",
            "Running Test...\n",
            "  Accuracy: 0.680\n",
            "  Test Loss: 0.997\n",
            "  Test took: 0:00:03\n",
            "\n",
            "======== Epoch 2 / 10 ========\n",
            "Training...\n",
            "  Batch    10  of     55.    Elapsed: 0:00:11.\n",
            "  Batch    20  of     55.    Elapsed: 0:00:22.\n",
            "  Batch    30  of     55.    Elapsed: 0:00:32.\n",
            "  Batch    40  of     55.    Elapsed: 0:00:43.\n",
            "  Batch    50  of     55.    Elapsed: 0:00:54.\n",
            "\n",
            "  Average training loss generetor: 0.731\n",
            "  Average training loss discriminator: 1.440\n",
            "  Training epcoh took: 0:00:59\n",
            "\n",
            "Running Test...\n",
            "  Accuracy: 0.734\n",
            "  Test Loss: 0.765\n",
            "  Test took: 0:00:03\n",
            "\n",
            "======== Epoch 3 / 10 ========\n",
            "Training...\n",
            "  Batch    10  of     55.    Elapsed: 0:00:11.\n",
            "  Batch    20  of     55.    Elapsed: 0:00:22.\n",
            "  Batch    30  of     55.    Elapsed: 0:00:32.\n",
            "  Batch    40  of     55.    Elapsed: 0:00:43.\n",
            "  Batch    50  of     55.    Elapsed: 0:00:54.\n",
            "\n",
            "  Average training loss generetor: 0.729\n",
            "  Average training loss discriminator: 1.083\n",
            "  Training epcoh took: 0:00:59\n",
            "\n",
            "Running Test...\n",
            "  Accuracy: 0.769\n",
            "  Test Loss: 0.731\n",
            "  Test took: 0:00:03\n",
            "\n",
            "======== Epoch 4 / 10 ========\n",
            "Training...\n",
            "  Batch    10  of     55.    Elapsed: 0:00:11.\n",
            "  Batch    20  of     55.    Elapsed: 0:00:22.\n",
            "  Batch    30  of     55.    Elapsed: 0:00:33.\n",
            "  Batch    40  of     55.    Elapsed: 0:00:43.\n",
            "  Batch    50  of     55.    Elapsed: 0:00:54.\n",
            "\n",
            "  Average training loss generetor: 0.721\n",
            "  Average training loss discriminator: 0.909\n",
            "  Training epcoh took: 0:00:59\n",
            "\n",
            "Running Test...\n",
            "  Accuracy: 0.783\n",
            "  Test Loss: 0.796\n",
            "  Test took: 0:00:03\n",
            "\n",
            "======== Epoch 5 / 10 ========\n",
            "Training...\n",
            "  Batch    10  of     55.    Elapsed: 0:00:11.\n",
            "  Batch    20  of     55.    Elapsed: 0:00:22.\n",
            "  Batch    30  of     55.    Elapsed: 0:00:32.\n",
            "  Batch    40  of     55.    Elapsed: 0:00:43.\n",
            "  Batch    50  of     55.    Elapsed: 0:00:54.\n",
            "\n",
            "  Average training loss generetor: 0.717\n",
            "  Average training loss discriminator: 0.813\n",
            "  Training epcoh took: 0:00:59\n",
            "\n",
            "Running Test...\n",
            "  Accuracy: 0.777\n",
            "  Test Loss: 0.858\n",
            "  Test took: 0:00:03\n",
            "\n",
            "======== Epoch 6 / 10 ========\n",
            "Training...\n",
            "  Batch    10  of     55.    Elapsed: 0:00:11.\n",
            "  Batch    20  of     55.    Elapsed: 0:00:22.\n",
            "  Batch    30  of     55.    Elapsed: 0:00:32.\n",
            "  Batch    40  of     55.    Elapsed: 0:00:43.\n",
            "  Batch    50  of     55.    Elapsed: 0:00:54.\n",
            "\n",
            "  Average training loss generetor: 0.713\n",
            "  Average training loss discriminator: 0.793\n",
            "  Training epcoh took: 0:00:59\n",
            "\n",
            "Running Test...\n",
            "  Accuracy: 0.780\n",
            "  Test Loss: 0.874\n",
            "  Test took: 0:00:03\n",
            "\n",
            "======== Epoch 7 / 10 ========\n",
            "Training...\n",
            "  Batch    10  of     55.    Elapsed: 0:00:11.\n",
            "  Batch    20  of     55.    Elapsed: 0:00:22.\n",
            "  Batch    30  of     55.    Elapsed: 0:00:32.\n",
            "  Batch    40  of     55.    Elapsed: 0:00:43.\n",
            "  Batch    50  of     55.    Elapsed: 0:00:54.\n",
            "\n",
            "  Average training loss generetor: 0.710\n",
            "  Average training loss discriminator: 0.759\n",
            "  Training epcoh took: 0:00:59\n",
            "\n",
            "Running Test...\n",
            "  Accuracy: 0.803\n",
            "  Test Loss: 0.834\n",
            "  Test took: 0:00:03\n",
            "\n",
            "======== Epoch 8 / 10 ========\n",
            "Training...\n",
            "  Batch    10  of     55.    Elapsed: 0:00:11.\n",
            "  Batch    20  of     55.    Elapsed: 0:00:22.\n",
            "  Batch    30  of     55.    Elapsed: 0:00:32.\n",
            "  Batch    40  of     55.    Elapsed: 0:00:43.\n",
            "  Batch    50  of     55.    Elapsed: 0:00:54.\n",
            "\n",
            "  Average training loss generetor: 0.708\n",
            "  Average training loss discriminator: 0.772\n",
            "  Training epcoh took: 0:00:59\n",
            "\n",
            "Running Test...\n",
            "  Accuracy: 0.777\n",
            "  Test Loss: 0.992\n",
            "  Test took: 0:00:03\n",
            "\n",
            "======== Epoch 9 / 10 ========\n",
            "Training...\n",
            "  Batch    10  of     55.    Elapsed: 0:00:11.\n",
            "  Batch    20  of     55.    Elapsed: 0:00:22.\n",
            "  Batch    30  of     55.    Elapsed: 0:00:32.\n",
            "  Batch    40  of     55.    Elapsed: 0:00:43.\n",
            "  Batch    50  of     55.    Elapsed: 0:00:54.\n",
            "\n",
            "  Average training loss generetor: 0.709\n",
            "  Average training loss discriminator: 0.814\n",
            "  Training epcoh took: 0:00:59\n",
            "\n",
            "Running Test...\n",
            "  Accuracy: 0.783\n",
            "  Test Loss: 0.963\n",
            "  Test took: 0:00:03\n",
            "\n",
            "======== Epoch 10 / 10 ========\n",
            "Training...\n",
            "  Batch    10  of     55.    Elapsed: 0:00:11.\n",
            "  Batch    20  of     55.    Elapsed: 0:00:22.\n",
            "  Batch    30  of     55.    Elapsed: 0:00:32.\n",
            "  Batch    40  of     55.    Elapsed: 0:00:43.\n",
            "  Batch    50  of     55.    Elapsed: 0:00:54.\n",
            "\n",
            "  Average training loss generetor: 0.704\n",
            "  Average training loss discriminator: 0.773\n",
            "  Training epcoh took: 0:00:59\n",
            "\n",
            "Running Test...\n",
            "  Accuracy: 0.786\n",
            "  Test Loss: 1.006\n",
            "  Test took: 0:00:03\n"
          ]
        }
      ],
      "source": [
        "# Hyperparameters\n",
        "training_stats = []\n",
        "epsilon = 1e-8\n",
        "\n",
        "# Measure the total training time for the whole run.\n",
        "total_t0 = time.time()\n",
        "\n",
        "#models parameters\n",
        "transformer_vars = [i for i in transformer.parameters()]\n",
        "d_vars = transformer_vars + [v for v in discriminator.parameters()]\n",
        "g_vars = [v for v in generator.parameters()]\n",
        "\n",
        "#optimizer\n",
        "lr = 5e-5\n",
        "dis_optimizer = torch.optim.AdamW(d_vars, lr=lr)\n",
        "gen_optimizer = torch.optim.AdamW(g_vars, lr=lr) \n",
        "\n",
        "#scheduler\n",
        "if apply_scheduler:\n",
        "    num_train_examples = len(train_examples)\n",
        "    num_train_steps = int(num_train_examples / batch_size * num_train_epochs)\n",
        "    num_warmup_steps = int(num_train_steps * warmup_proportion)\n",
        "\n",
        "    scheduler_d = get_constant_schedule_with_warmup(dis_optimizer, \n",
        "                                           num_warmup_steps = num_warmup_steps)\n",
        "    scheduler_g = get_constant_schedule_with_warmup(gen_optimizer, \n",
        "                                           num_warmup_steps = num_warmup_steps)\n",
        "\n",
        "# For each epoch...\n",
        "for epoch_i in range(0, num_train_epochs):\n",
        "    # ========================================\n",
        "    #               Training\n",
        "    # ========================================\n",
        "    # Perform one full pass over the training set.\n",
        "    print(\"\")\n",
        "    print('======== Epoch {:} / {:} ========'.format(epoch_i + 1, num_train_epochs))\n",
        "    print('Training...')\n",
        "\n",
        "    # Measure how long the training epoch takes.\n",
        "    t0 = time.time()\n",
        "\n",
        "    # Reset the total loss for this epoch.\n",
        "    tr_g_loss = 0\n",
        "    tr_d_loss = 0\n",
        "\n",
        "    # Put the model into training mode.\n",
        "    transformer.train() \n",
        "    generator.train()\n",
        "    discriminator.train()\n",
        "\n",
        "    # For each batch of training data...\n",
        "    for step, batch in enumerate(train_dataloader):\n",
        "\n",
        "        # Progress update every print_each_n_step batches.\n",
        "        if step % print_each_n_step == 0 and not step == 0:\n",
        "            # Calculate elapsed time in minutes.\n",
        "            elapsed = format_time(time.time() - t0)\n",
        "            \n",
        "            # Report progress.\n",
        "            print('  Batch {:>5,}  of  {:>5,}.    Elapsed: {:}.'.format(step, len(train_dataloader), elapsed))\n",
        "\n",
        "        # Unpack this training batch from our dataloader. \n",
        "        b_input_ids = batch[0].to(device)\n",
        "        b_input_mask = batch[1].to(device)\n",
        "        b_labels = batch[2].to(device)\n",
        "        b_label_mask = batch[3].to(device)\n",
        "     \n",
        "        # Encode real data in the Transformer\n",
        "        model_outputs = transformer(b_input_ids, attention_mask=b_input_mask)\n",
        "        hidden_states = model_outputs[-1]\n",
        "        \n",
        "        # Generate fake data that should have the same distribution of the ones\n",
        "        # encoded by the transformer. \n",
        "        # First noisy input are used in input to the Generator\n",
        "        noise = torch.zeros(b_input_ids.shape[0],noise_size, device=device).uniform_(0, 1)\n",
        "        # Gnerate Fake data\n",
        "        gen_rep = generator(noise)\n",
        "\n",
        "        # Generate the output of the Discriminator for real and fake data.\n",
        "        # First, we put together the output of the tranformer and the generator\n",
        "        disciminator_input = torch.cat([hidden_states, gen_rep], dim=0)\n",
        "        # Then, we select the output of the disciminator\n",
        "        features, logits, probs = discriminator(disciminator_input)\n",
        "\n",
        "        # Finally, we separate the discriminator's output for the real and fake\n",
        "        # data\n",
        "        split_size = int(features.shape[0]/2)\n",
        "        features_list = torch.split(features, split_size)\n",
        "        D_real_features = features_list[0]\n",
        "        D_fake_features = features_list[1]\n",
        "      \n",
        "        logits_list = torch.split(logits, split_size)\n",
        "        D_real_logits = logits_list[0]\n",
        "        D_fake_logits = logits_list[1]\n",
        "        \n",
        "        probs_list = torch.split(probs, split_size)\n",
        "        D_real_probs = probs_list[0]\n",
        "        D_fake_probs = probs_list[1]\n",
        "\n",
        "        #---------------------------------\n",
        "        #  LOSS evaluation\n",
        "        #---------------------------------\n",
        "        # Generator's LOSS estimation\n",
        "        g_loss_d = -1 * torch.mean(torch.log(1 - D_fake_probs[:,-1] + epsilon))\n",
        "        g_feat_reg = torch.mean(torch.pow(torch.mean(D_real_features, dim=0) - torch.mean(D_fake_features, dim=0), 2))\n",
        "        g_loss = g_loss_d + g_feat_reg\n",
        "  \n",
        "        # Disciminator's LOSS estimation\n",
        "        logits = D_real_logits[:,0:-1]\n",
        "        log_probs = F.log_softmax(logits, dim=-1)\n",
        "        # The discriminator provides an output for labeled and unlabeled real data\n",
        "        # so the loss evaluated for unlabeled data is ignored (masked)\n",
        "        label2one_hot = torch.nn.functional.one_hot(b_labels, len(class_map))\n",
        "        per_example_loss = -torch.sum(label2one_hot * log_probs, dim=-1)\n",
        "        per_example_loss = torch.masked_select(per_example_loss, b_label_mask.type(torch.bool).to(device))\n",
        "        labeled_example_count = per_example_loss.type(torch.float32).numel()\n",
        "\n",
        "        # It may be the case that a batch does not contain labeled examples, \n",
        "        # so the \"supervised loss\" in this case is not evaluated\n",
        "        if labeled_example_count == 0:\n",
        "            D_L_Supervised = 0\n",
        "        else:\n",
        "            D_L_Supervised = torch.div(torch.sum(per_example_loss.to(device)), labeled_example_count)\n",
        "                 \n",
        "        D_L_unsupervised1U = -1 * torch.mean(torch.log(1 - D_real_probs[:, -1] + epsilon))\n",
        "        D_L_unsupervised2U = -1 * torch.mean(torch.log(D_fake_probs[:, -1] + epsilon))\n",
        "        d_loss = D_L_Supervised + D_L_unsupervised1U + D_L_unsupervised2U\n",
        "\n",
        "        #---------------------------------\n",
        "        #  OPTIMIZATION\n",
        "        #---------------------------------\n",
        "        # Avoid gradient accumulation\n",
        "        gen_optimizer.zero_grad()\n",
        "        dis_optimizer.zero_grad()\n",
        "\n",
        "        # Calculate weigth updates\n",
        "        # retain_graph=True is required since the underlying graph will be deleted after backward\n",
        "        g_loss.backward(retain_graph=True)\n",
        "        d_loss.backward() \n",
        "        \n",
        "        # Apply modifications\n",
        "        gen_optimizer.step()\n",
        "        dis_optimizer.step()\n",
        "\n",
        "        # A detail log of the individual losses\n",
        "        #print(\"{0:.4f}\\t{1:.4f}\\t{2:.4f}\\t{3:.4f}\\t{4:.4f}\".\n",
        "        #      format(D_L_Supervised, D_L_unsupervised1U, D_L_unsupervised2U,\n",
        "        #             g_loss_d, g_feat_reg))\n",
        "\n",
        "        # Save the losses to print them later\n",
        "        tr_g_loss += g_loss.item()\n",
        "        tr_d_loss += d_loss.item()\n",
        "\n",
        "        # Update the learning rate with the scheduler\n",
        "        if apply_scheduler:\n",
        "            scheduler_d.step()\n",
        "            scheduler_g.step()\n",
        "\n",
        "    # Calculate the average loss over all of the batches.\n",
        "    avg_train_loss_g = tr_g_loss / len(train_dataloader)\n",
        "    avg_train_loss_d = tr_d_loss / len(train_dataloader)             \n",
        "    \n",
        "    # Measure how long this epoch took.\n",
        "    training_time = format_time(time.time() - t0)\n",
        "\n",
        "    print(\"\")\n",
        "    print(\"  Average training loss generetor: {0:.3f}\".format(avg_train_loss_g))\n",
        "    print(\"  Average training loss discriminator: {0:.3f}\".format(avg_train_loss_d))\n",
        "    print(\"  Training epcoh took: {:}\".format(training_time))\n",
        "        \n",
        "    # ========================================\n",
        "    #     TEST ON THE EVALUATION DATASET\n",
        "    # ========================================\n",
        "    # After the completion of each training epoch, measure our performance on\n",
        "    # our test set.\n",
        "    print(\"\")\n",
        "    print(\"Running Test...\")\n",
        "\n",
        "    t0 = time.time()\n",
        "\n",
        "    # Put the model in evaluation mode--the dropout layers behave differently\n",
        "    # during evaluation.\n",
        "    transformer.eval() #maybe redundant\n",
        "    discriminator.eval()\n",
        "    generator.eval()\n",
        "\n",
        "    # Tracking variables \n",
        "    total_test_accuracy = 0\n",
        "   \n",
        "    total_test_loss = 0\n",
        "    nb_test_steps = 0\n",
        "\n",
        "    all_preds = []\n",
        "    all_labels_ids = []\n",
        "\n",
        "    #loss\n",
        "    nll_loss = torch.nn.CrossEntropyLoss(ignore_index=-1)\n",
        "\n",
        "    # Evaluate data for one epoch\n",
        "    for batch in test_dataloader:\n",
        "        \n",
        "        # Unpack this training batch from our dataloader. \n",
        "        b_input_ids = batch[0].to(device)\n",
        "        b_input_mask = batch[1].to(device)\n",
        "        b_labels = batch[2].to(device)\n",
        "        \n",
        "        # Tell pytorch not to bother with constructing the compute graph during\n",
        "        # the forward pass, since this is only needed for backprop (training).\n",
        "        with torch.no_grad():        \n",
        "            model_outputs = transformer(b_input_ids, attention_mask=b_input_mask)\n",
        "            hidden_states = model_outputs[-1]\n",
        "            _, logits, probs = discriminator(hidden_states)\n",
        "            ###log_probs = F.log_softmax(probs[:,1:], dim=-1)\n",
        "            filtered_logits = logits[:,0:-1]\n",
        "            # Accumulate the test loss.\n",
        "            total_test_loss += nll_loss(filtered_logits, b_labels)\n",
        "            \n",
        "        # Accumulate the predictions and the input labels\n",
        "        _, preds = torch.max(filtered_logits, 1)\n",
        "        all_preds += preds.detach().cpu()\n",
        "        all_labels_ids += b_labels.detach().cpu()\n",
        "\n",
        "    # Report the final accuracy for this validation run.\n",
        "    all_preds = torch.stack(all_preds).numpy()\n",
        "    all_labels_ids = torch.stack(all_labels_ids).numpy()\n",
        "    test_accuracy = np.sum(all_preds == all_labels_ids) / len(all_preds)\n",
        "    print(\"  Accuracy: {0:.3f}\".format(test_accuracy))\n",
        "\n",
        "    # Calculate the average loss over all of the batches.\n",
        "    avg_test_loss = total_test_loss / len(test_dataloader)\n",
        "    avg_test_loss = avg_test_loss.item()\n",
        "    \n",
        "    # Measure how long the validation run took.\n",
        "    test_time = format_time(time.time() - t0)\n",
        "    \n",
        "    print(\"  Test Loss: {0:.3f}\".format(avg_test_loss))\n",
        "    print(\"  Test took: {:}\".format(test_time))\n",
        "\n",
        "    # Record all statistics from this epoch.\n",
        "    training_stats.append(\n",
        "        {\n",
        "            'epoch': epoch_i + 1,\n",
        "            'Training Loss generator': avg_train_loss_g,\n",
        "            'Training Loss discriminator': avg_train_loss_d,\n",
        "            'Valid. Loss': avg_test_loss,\n",
        "            'Valid. Accur.': test_accuracy,\n",
        "            'Training Time': training_time,\n",
        "            'Test Time': test_time\n",
        "        }\n",
        "    )\n"
      ]
    },
    {
      "cell_type": "code",
      "execution_count": null,
      "metadata": {
        "colab": {
          "base_uri": "https://localhost:8080/"
        },
        "id": "aOymXdSsNJV7",
        "outputId": "2c7682e1-c6ce-4b7e-874e-66d237c41a89"
      },
      "outputs": [
        {
          "output_type": "execute_result",
          "data": {
            "text/plain": [
              "<matplotlib.legend.Legend at 0x7f0db62bfa50>"
            ]
          },
          "metadata": {},
          "execution_count": 89
        },
        {
          "output_type": "display_data",
          "data": {
            "text/plain": [
              "<Figure size 432x288 with 2 Axes>"
            ],
            "image/png": "[encoded data removed]"
          },
          "metadata": {
            "needs_background": "light"
          }
        }
      ],
      "source": [
        "#Training loss\n",
        "ls_g_loss = []\n",
        "ls_d_loss = []\n",
        "ls_val_loss = []\n",
        "ls_val_acc = []\n",
        "\n",
        "for i in range(len(training_stats)):\n",
        "    ls_g_loss.append(training_stats[i]['Training Loss generator'])\n",
        "    ls_d_loss.append(training_stats[i]['Training Loss discriminator'])\n",
        "    ls_val_loss.append(training_stats[i]['Valid. Loss'])\n",
        "    ls_val_acc.append(training_stats[i]['Valid. Accur.'])\n",
        "    \n",
        "#Plotting\n",
        "plt.subplot(1,2,1)\n",
        "plt.plot(ls_g_loss, label='g_loss')\n",
        "plt.plot(ls_d_loss, label='d_loss')\n",
        "plt.legend(loc='upper right')\n",
        "         \n",
        "plt.subplot(1,2,2)\n",
        "plt.plot(ls_val_loss, label='val_loss')\n",
        "plt.plot(ls_val_acc, label='val_acc', color='red', linestyle='--')\n",
        "plt.legend(loc='upper left')"
      ]
    },
    {
      "cell_type": "markdown",
      "metadata": {
        "id": "fwjG5gqAOBXc"
      },
      "source": [
        "# Making predictions"
      ]
    },
    {
      "cell_type": "markdown",
      "metadata": {
        "id": "_ALO7NhAWvHt"
      },
      "source": [
        ""
      ]
    },
    {
      "cell_type": "code",
      "execution_count": null,
      "metadata": {
        "colab": {
          "base_uri": "https://localhost:8080/",
          "height": 161
        },
        "id": "d64HXAHANnzy",
        "outputId": "c5bd1d85-6aa4-4c3a-9c1e-872d92f4ac08"
      },
      "outputs": [
        {
          "output_type": "stream",
          "name": "stdout",
          "text": [
            "Number of data entries: 1300\n"
          ]
        },
        {
          "output_type": "execute_result",
          "data": {
            "text/plain": [
              "                                                   text  label  label_mask\n",
              "82     You can't do that ! You can't charge me for a...      4           1\n",
              "1053  ` I 'm so happy you could make it , my favouri...      5           1\n",
              "306                                        Who is he ?       1           1"
            ],
            "text/html": [
              "\n",
              "  <div id=\"df-45e7e0de-5258-4e23-af4f-303c8098155f\">\n",
              "    <div class=\"colab-df-container\">\n",
              "      <div>\n",
              "<style scoped>\n",
              "    .dataframe tbody tr th:only-of-type {\n",
              "        vertical-align: middle;\n",
              "    }\n",
              "\n",
              "    .dataframe tbody tr th {\n",
              "        vertical-align: top;\n",
              "    }\n",
              "\n",
              "    .dataframe thead th {\n",
              "        text-align: right;\n",
              "    }\n",
              "</style>\n",
              "<table border=\"1\" class=\"dataframe\">\n",
              "  <thead>\n",
              "    <tr style=\"text-align: right;\">\n",
              "      <th></th>\n",
              "      <th>text</th>\n",
              "      <th>label</th>\n",
              "      <th>label_mask</th>\n",
              "    </tr>\n",
              "  </thead>\n",
              "  <tbody>\n",
              "    <tr>\n",
              "      <th>82</th>\n",
              "      <td>You can't do that ! You can't charge me for a...</td>\n",
              "      <td>4</td>\n",
              "      <td>1</td>\n",
              "    </tr>\n",
              "    <tr>\n",
              "      <th>1053</th>\n",
              "      <td>` I 'm so happy you could make it , my favouri...</td>\n",
              "      <td>5</td>\n",
              "      <td>1</td>\n",
              "    </tr>\n",
              "    <tr>\n",
              "      <th>306</th>\n",
              "      <td>Who is he ?</td>\n",
              "      <td>1</td>\n",
              "      <td>1</td>\n",
              "    </tr>\n",
              "  </tbody>\n",
              "</table>\n",
              "</div>\n",
              "      <button class=\"colab-df-convert\" onclick=\"convertToInteractive('df-45e7e0de-5258-4e23-af4f-303c8098155f')\"\n",
              "              title=\"Convert this dataframe to an interactive table.\"\n",
              "              style=\"display:none;\">\n",
              "        \n",
              "  <svg xmlns=\"http://www.w3.org/2000/svg\" height=\"24px\"viewBox=\"0 0 24 24\"\n",
              "       width=\"24px\">\n",
              "    <path d=\"M0 0h24v24H0V0z\" fill=\"none\"/>\n",
              "    <path d=\"M18.56 5.44l.94 2.06.94-2.06 2.06-.94-2.06-.94-.94-2.06-.94 2.06-2.06.94zm-11 1L8.5 8.5l.94-2.06 2.06-.94-2.06-.94L8.5 2.5l-.94 2.06-2.06.94zm10 10l.94 2.06.94-2.06 2.06-.94-2.06-.94-.94-2.06-.94 2.06-2.06.94z\"/><path d=\"M17.41 7.96l-1.37-1.37c-.4-.4-.92-.59-1.43-.59-.52 0-1.04.2-1.43.59L10.3 9.45l-7.72 7.72c-.78.78-.78 2.05 0 2.83L4 21.41c.39.39.9.59 1.41.59.51 0 1.02-.2 1.41-.59l7.78-7.78 2.81-2.81c.8-.78.8-2.07 0-2.86zM5.41 20L4 18.59l7.72-7.72 1.47 1.35L5.41 20z\"/>\n",
              "  </svg>\n",
              "      </button>\n",
              "      \n",
              "  <style>\n",
              "    .colab-df-container {\n",
              "      display:flex;\n",
              "      flex-wrap:wrap;\n",
              "      gap: 12px;\n",
              "    }\n",
              "\n",
              "    .colab-df-convert {\n",
              "      background-color: #E8F0FE;\n",
              "      border: none;\n",
              "      border-radius: 50%;\n",
              "      cursor: pointer;\n",
              "      display: none;\n",
              "      fill: #1967D2;\n",
              "      height: 32px;\n",
              "      padding: 0 0 0 0;\n",
              "      width: 32px;\n",
              "    }\n",
              "\n",
              "    .colab-df-convert:hover {\n",
              "      background-color: #E2EBFA;\n",
              "      box-shadow: 0px 1px 2px rgba(60, 64, 67, 0.3), 0px 1px 3px 1px rgba(60, 64, 67, 0.15);\n",
              "      fill: #174EA6;\n",
              "    }\n",
              "\n",
              "    [theme=dark] .colab-df-convert {\n",
              "      background-color: #3B4455;\n",
              "      fill: #D2E3FC;\n",
              "    }\n",
              "\n",
              "    [theme=dark] .colab-df-convert:hover {\n",
              "      background-color: #434B5C;\n",
              "      box-shadow: 0px 1px 3px 1px rgba(0, 0, 0, 0.15);\n",
              "      filter: drop-shadow(0px 1px 2px rgba(0, 0, 0, 0.3));\n",
              "      fill: #FFFFFF;\n",
              "    }\n",
              "  </style>\n",
              "\n",
              "      <script>\n",
              "        const buttonEl =\n",
              "          document.querySelector('#df-45e7e0de-5258-4e23-af4f-303c8098155f button.colab-df-convert');\n",
              "        buttonEl.style.display =\n",
              "          google.colab.kernel.accessAllowed ? 'block' : 'none';\n",
              "\n",
              "        async function convertToInteractive(key) {\n",
              "          const element = document.querySelector('#df-45e7e0de-5258-4e23-af4f-303c8098155f');\n",
              "          const dataTable =\n",
              "            await google.colab.kernel.invokeFunction('convertToInteractive',\n",
              "                                                     [key], {});\n",
              "          if (!dataTable) return;\n",
              "\n",
              "          const docLinkHtml = 'Like what you see? Visit the ' +\n",
              "            '<a target=\"_blank\" href=https://colab.research.google.com/notebooks/data_table.ipynb>data table notebook</a>'\n",
              "            + ' to learn more about interactive tables.';\n",
              "          element.innerHTML = '';\n",
              "          dataTable['output_type'] = 'display_data';\n",
              "          await google.colab.output.renderOutput(dataTable, element);\n",
              "          const docLink = document.createElement('div');\n",
              "          docLink.innerHTML = docLinkHtml;\n",
              "          element.appendChild(docLink);\n",
              "        }\n",
              "      </script>\n",
              "    </div>\n",
              "  </div>\n",
              "  "
            ]
          },
          "metadata": {},
          "execution_count": 90
        }
      ],
      "source": [
        "# Load test dataset\n",
        "df_target = pd.read_csv('Dataset4_test(ganbert)2.csv')\n",
        "#df.columns = ['text', 'label']\n",
        "\n",
        "# Show number of data entries\n",
        "print('Number of data entries: {}'.format(len(df_target)))\n",
        "\n",
        "# Mapping label to number\n",
        "df_target['label'] = df_target['label'].map(class_map)\n",
        "\n",
        "# label_mask\n",
        "df_target['label_mask'] = df_target['label'].apply(generate_label_mask)\n",
        "\n",
        "# Show a few samples\n",
        "df_target.sample(3)"
      ]
    },
    {
      "cell_type": "code",
      "execution_count": null,
      "metadata": {
        "id": "1-46xTiSLvDP"
      },
      "outputs": [],
      "source": [
        "# Convert df_target to dataloader\n",
        "#t0 = time.time()\n",
        "\n",
        "input_ids, attention_mask, labels, label_masks = encode_df(df_target)\n",
        "input_ids, attention_mask, labels, label_masks = concat_data(input_ids, attention_mask, labels, label_masks)\n",
        "target_dataloader = make_dataloader(input_ids, attention_mask, labels, label_masks, random_sampler=False)\n",
        "\n",
        "#print('Tokenization took time: {}'.format(format_time(time.time()-t0)))"
      ]
    },
    {
      "cell_type": "code",
      "execution_count": null,
      "metadata": {
        "colab": {
          "base_uri": "https://localhost:8080/"
        },
        "id": "b_zOhKTCNN0b",
        "outputId": "0dbbf4d1-91b5-483d-8f99-dabfa82ec88f"
      },
      "outputs": [
        {
          "output_type": "stream",
          "name": "stdout",
          "text": [
            "\n",
            "Running Prediction...\n",
            "  Accuracy: 0.752\n",
            "  Test Loss: 1.209\n",
            "  Test took: 0:00:10\n",
            "Show experimental settings: {'labeled_data_size': 350, 'unlabeld_data_size': 350, 'num_train_epochs': 10}\n",
            "\n",
            "\n"
          ]
        }
      ],
      "source": [
        "prediction_stats = []\n",
        "\n",
        "print(\"\")\n",
        "print(\"Running Prediction...\")\n",
        "\n",
        "t0 = time.time()\n",
        "\n",
        "# Set models to eval mode\n",
        "transformer.eval() \n",
        "discriminator.eval()\n",
        "generator.eval()\n",
        "\n",
        "# Tracking variables \n",
        "total_pred_accuracy = 0\n",
        "total_pred_loss = 0\n",
        "\n",
        "all_preds = []\n",
        "all_labels_ids = []\n",
        "\n",
        "#loss\n",
        "nll_loss = torch.nn.CrossEntropyLoss(ignore_index=-1)\n",
        "\n",
        "# Evaluate data for one epoch\n",
        "for batch in target_dataloader:\n",
        "    b_input_ids = batch[0].to(device)\n",
        "    b_input_mask = batch[1].to(device)\n",
        "    b_labels = batch[2].to(device)\n",
        "\n",
        "    with torch.no_grad():        \n",
        "        model_outputs = transformer(b_input_ids, attention_mask=b_input_mask)\n",
        "        hidden_states = model_outputs[-1]\n",
        "        _, logits, probs = discriminator(hidden_states)\n",
        "        ###log_probs = F.log_softmax(probs[:,1:], dim=-1)\n",
        "        filtered_logits = logits[:,0:-1]\n",
        "        # Accumulate the test loss.\n",
        "        total_pred_loss += nll_loss(filtered_logits, b_labels)\n",
        "\n",
        "    # Accumulate the predictions and the input labels\n",
        "    _, preds = torch.max(filtered_logits, 1)\n",
        "    all_preds += preds.detach().cpu()\n",
        "    all_labels_ids += b_labels.detach().cpu()\n",
        "\n",
        "# Report the final accuracy for this validation run.\n",
        "all_preds = torch.stack(all_preds).numpy()\n",
        "all_labels_ids = torch.stack(all_labels_ids).numpy()\n",
        "pred_accuracy = np.sum(all_preds == all_labels_ids) / len(all_preds)\n",
        "print(\"  Accuracy: {0:.3f}\".format(pred_accuracy))\n",
        "\n",
        "# Calculate the average loss over all of the batches.\n",
        "avg_pred_loss = total_pred_loss / len(target_dataloader)\n",
        "avg_pred_loss = avg_pred_loss.item()\n",
        "\n",
        "# Measure how long the validation run took.\n",
        "pred_time = format_time(time.time() - t0)\n",
        "\n",
        "print(\"  Test Loss: {0:.3f}\".format(avg_pred_loss))\n",
        "print(\"  Test took: {:}\".format(pred_time))\n",
        "\n",
        "# Record all statistics from this epoch.\n",
        "print('Show experimental settings: {}'.format(dict_settings))\n",
        "print('\\n')\n",
        "\n",
        "prediction_stats.append(\n",
        "    {\n",
        "        'Prediction. Loss': avg_pred_loss,\n",
        "        'prediction. Accur.': pred_accuracy,\n",
        "        'Prediction Time': pred_time,\n",
        "    }\n",
        ")"
      ]
    },
    {
      "cell_type": "code",
      "execution_count": null,
      "metadata": {
        "id": "jnd8DVbrNkYI",
        "colab": {
          "base_uri": "https://localhost:8080/",
          "height": 282
        },
        "outputId": "891813d9-5369-4fcb-ca3f-92a054255c17"
      },
      "outputs": [
        {
          "output_type": "execute_result",
          "data": {
            "text/plain": [
              "<matplotlib.axes._subplots.AxesSubplot at 0x7f0db52ef3d0>"
            ]
          },
          "metadata": {},
          "execution_count": 93
        },
        {
          "output_type": "display_data",
          "data": {
            "text/plain": [
              "<Figure size 432x288 with 2 Axes>"
            ],
            "image/png": "[encoded data removed]"
          },
          "metadata": {
            "needs_background": "light"
          }
        }
      ],
      "source": [
        "from sklearn.metrics import confusion_matrix, classification_report\n",
        "\n",
        "# Confusion matrix\n",
        "cm = confusion_matrix(all_preds, all_labels_ids)\n",
        "\n",
        "sns.heatmap(cm)"
      ]
    },
    {
      "cell_type": "code",
      "execution_count": null,
      "metadata": {
        "id": "8BnPZNwLNrue",
        "colab": {
          "base_uri": "https://localhost:8080/"
        },
        "outputId": "3b7c06ab-7634-4bea-9d08-2e01d8eae720"
      },
      "outputs": [
        {
          "output_type": "stream",
          "name": "stdout",
          "text": [
            "              precision    recall  f1-score   support\n",
            "\n",
            "           1       0.69      0.86      0.77       216\n",
            "           2       0.73      0.81      0.77       235\n",
            "           3       0.85      0.68      0.75       297\n",
            "           4       0.62      0.78      0.69       207\n",
            "           5       0.87      0.69      0.77       345\n",
            "\n",
            "    accuracy                           0.75      1300\n",
            "   macro avg       0.75      0.76      0.75      1300\n",
            "weighted avg       0.77      0.75      0.75      1300\n",
            "\n"
          ]
        }
      ],
      "source": [
        "# Classification report\n",
        "cr = classification_report(all_preds, all_labels_ids)\n",
        "\n",
        "print(cr)"
      ]
    },
    {
      "cell_type": "markdown",
      "metadata": {
        "id": "sGhXgUXSN7Jt"
      },
      "source": [
        "# Time took for the entire noteobok"
      ]
    },
    {
      "cell_type": "code",
      "execution_count": null,
      "metadata": {
        "id": "tAQbCUEHNzN7"
      },
      "outputs": [],
      "source": [
        "time_diff = entire_notebook_t0 - time.time()\n",
        "print('Time took for the entire notebook: {}'.format(time_diff))"
      ]
    }
  ],
  "metadata": {
    "accelerator": "GPU",
    "colab": {
      "collapsed_sections": [
        "SCiEdpQu8Zc7",
        "s7XCKprt9AZG",
        "gVlrz9wU9jc2",
        "NxwrQAYv9uhz",
        "tZPZuEJz96xe",
        "MpSK3geuKSiA",
        "fwjG5gqAOBXc",
        "sGhXgUXSN7Jt"
      ],
      "name": "GAN-implementation4.ipynb",
      "provenance": [],
      "include_colab_link": true
    },
    "kernelspec": {
      "display_name": "Python 3",
      "name": "python3"
    }
  },
  "nbformat": 4,
  "nbformat_minor": 0
}